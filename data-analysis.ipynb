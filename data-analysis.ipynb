{
 "cells": [
  {
   "cell_type": "markdown",
   "id": "3e6d6e48",
   "metadata": {
    "papermill": {
     "duration": 0.007717,
     "end_time": "2024-10-24T19:28:55.810186",
     "exception": false,
     "start_time": "2024-10-24T19:28:55.802469",
     "status": "completed"
    },
    "tags": []
   },
   "source": [
    "<h1><b>Importing and reading the data</b></h1>"
   ]
  },
  {
   "cell_type": "code",
   "execution_count": 1,
   "id": "9aafd9fe",
   "metadata": {
    "_cell_guid": "b1076dfc-b9ad-4769-8c92-a6c4dae69d19",
    "_uuid": "8f2839f25d086af736a60e9eeb907d3b93b6e0e5",
    "execution": {
     "iopub.execute_input": "2024-10-24T19:28:55.826693Z",
     "iopub.status.busy": "2024-10-24T19:28:55.826181Z",
     "iopub.status.idle": "2024-10-24T19:28:59.231426Z",
     "shell.execute_reply": "2024-10-24T19:28:59.230035Z"
    },
    "papermill": {
     "duration": 3.417014,
     "end_time": "2024-10-24T19:28:59.234637",
     "exception": false,
     "start_time": "2024-10-24T19:28:55.817623",
     "status": "completed"
    },
    "tags": []
   },
   "outputs": [],
   "source": [
    "import pandas as pd\n",
    "import numpy as np\n",
    "import matplotlib.pylab as plt\n",
    "import seaborn as sns\n",
    "plt.style.use('ggplot')\n",
    "# pd.set_option('max_columns', 200)"
   ]
  },
  {
   "cell_type": "code",
   "execution_count": 2,
   "id": "46c90fbf",
   "metadata": {
    "execution": {
     "iopub.execute_input": "2024-10-24T19:28:59.251503Z",
     "iopub.status.busy": "2024-10-24T19:28:59.250803Z",
     "iopub.status.idle": "2024-10-24T19:28:59.308832Z",
     "shell.execute_reply": "2024-10-24T19:28:59.307523Z"
    },
    "papermill": {
     "duration": 0.06981,
     "end_time": "2024-10-24T19:28:59.311834",
     "exception": false,
     "start_time": "2024-10-24T19:28:59.242024",
     "status": "completed"
    },
    "tags": []
   },
   "outputs": [],
   "source": [
    "#Defining the path to the Titanic folder\n",
    "path = \"/kaggle/input/titanic/\"\n",
    "\n",
    "#Loading the CSV files into DataFrames\n",
    "gender_submission_df = pd.read_csv(path + \"gender_submission.csv\")\n",
    "train_df = pd.read_csv(path + \"train.csv\")\n",
    "test_df = pd.read_csv(path + \"test.csv\")"
   ]
  },
  {
   "cell_type": "markdown",
   "id": "1815015d",
   "metadata": {
    "papermill": {
     "duration": 0.006943,
     "end_time": "2024-10-24T19:28:59.325898",
     "exception": false,
     "start_time": "2024-10-24T19:28:59.318955",
     "status": "completed"
    },
    "tags": []
   },
   "source": [
    "<h1><b>Step 1: Understanding the Data</b></h1>"
   ]
  },
  {
   "cell_type": "code",
   "execution_count": 3,
   "id": "917c00aa",
   "metadata": {
    "execution": {
     "iopub.execute_input": "2024-10-24T19:28:59.343061Z",
     "iopub.status.busy": "2024-10-24T19:28:59.342014Z",
     "iopub.status.idle": "2024-10-24T19:28:59.348997Z",
     "shell.execute_reply": "2024-10-24T19:28:59.347756Z"
    },
    "papermill": {
     "duration": 0.017353,
     "end_time": "2024-10-24T19:28:59.351297",
     "exception": false,
     "start_time": "2024-10-24T19:28:59.333944",
     "status": "completed"
    },
    "tags": []
   },
   "outputs": [
    {
     "name": "stdout",
     "output_type": "stream",
     "text": [
      "Gender Submission DataFrame shape: (418, 2)\n",
      "train DataFrame shape: (891, 12)\n",
      "test DataFrame shape: (418, 11)\n"
     ]
    }
   ],
   "source": [
    "#Checking the shape of each DataFrame\n",
    "\n",
    "print(\"Gender Submission DataFrame shape:\", gender_submission_df.shape)\n",
    "print(\"train DataFrame shape:\", train_df.shape)\n",
    "print(\"test DataFrame shape:\", test_df.shape)"
   ]
  },
  {
   "cell_type": "code",
   "execution_count": 4,
   "id": "5cb539b1",
   "metadata": {
    "execution": {
     "iopub.execute_input": "2024-10-24T19:28:59.366475Z",
     "iopub.status.busy": "2024-10-24T19:28:59.366069Z",
     "iopub.status.idle": "2024-10-24T19:28:59.393937Z",
     "shell.execute_reply": "2024-10-24T19:28:59.392533Z"
    },
    "papermill": {
     "duration": 0.038873,
     "end_time": "2024-10-24T19:28:59.397005",
     "exception": false,
     "start_time": "2024-10-24T19:28:59.358132",
     "status": "completed"
    },
    "tags": []
   },
   "outputs": [
    {
     "name": "stdout",
     "output_type": "stream",
     "text": [
      "First 5 rows of Gender Submission DataFrame:\n",
      "   PassengerId  Survived\n",
      "0          892         0\n",
      "1          893         1\n",
      "2          894         0\n",
      "3          895         0\n",
      "4          896         1\n",
      "----------------------------------------------------------------------\n",
      "First 5 rows of Train DataFrame:\n",
      "   PassengerId  Survived  Pclass  \\\n",
      "0            1         0       3   \n",
      "1            2         1       1   \n",
      "2            3         1       3   \n",
      "3            4         1       1   \n",
      "4            5         0       3   \n",
      "\n",
      "                                                Name     Sex   Age  SibSp  \\\n",
      "0                            Braund, Mr. Owen Harris    male  22.0      1   \n",
      "1  Cumings, Mrs. John Bradley (Florence Briggs Th...  female  38.0      1   \n",
      "2                             Heikkinen, Miss. Laina  female  26.0      0   \n",
      "3       Futrelle, Mrs. Jacques Heath (Lily May Peel)  female  35.0      1   \n",
      "4                           Allen, Mr. William Henry    male  35.0      0   \n",
      "\n",
      "   Parch            Ticket     Fare Cabin Embarked  \n",
      "0      0         A/5 21171   7.2500   NaN        S  \n",
      "1      0          PC 17599  71.2833   C85        C  \n",
      "2      0  STON/O2. 3101282   7.9250   NaN        S  \n",
      "3      0            113803  53.1000  C123        S  \n",
      "4      0            373450   8.0500   NaN        S  \n",
      "----------------------------------------------------------------------\n",
      "First 5 rows of Test DataFrame:\n",
      "   PassengerId  Pclass                                          Name     Sex  \\\n",
      "0          892       3                              Kelly, Mr. James    male   \n",
      "1          893       3              Wilkes, Mrs. James (Ellen Needs)  female   \n",
      "2          894       2                     Myles, Mr. Thomas Francis    male   \n",
      "3          895       3                              Wirz, Mr. Albert    male   \n",
      "4          896       3  Hirvonen, Mrs. Alexander (Helga E Lindqvist)  female   \n",
      "\n",
      "    Age  SibSp  Parch   Ticket     Fare Cabin Embarked  \n",
      "0  34.5      0      0   330911   7.8292   NaN        Q  \n",
      "1  47.0      1      0   363272   7.0000   NaN        S  \n",
      "2  62.0      0      0   240276   9.6875   NaN        Q  \n",
      "3  27.0      0      0   315154   8.6625   NaN        S  \n",
      "4  22.0      1      1  3101298  12.2875   NaN        S  \n",
      "----------------------------------------------------------------------\n"
     ]
    }
   ],
   "source": [
    "#Displaying the first few rows of each DataFrame\n",
    "print(\"First 5 rows of Gender Submission DataFrame:\")\n",
    "print(gender_submission_df.head())\n",
    "print(\"-\"*70)\n",
    "\n",
    "print(\"First 5 rows of Train DataFrame:\")\n",
    "print(train_df.head())\n",
    "print(\"-\"*70)\n",
    "\n",
    "print(\"First 5 rows of Test DataFrame:\")\n",
    "print(test_df.head())\n",
    "print(\"-\"*70)"
   ]
  },
  {
   "cell_type": "code",
   "execution_count": 5,
   "id": "437e431e",
   "metadata": {
    "execution": {
     "iopub.execute_input": "2024-10-24T19:28:59.414894Z",
     "iopub.status.busy": "2024-10-24T19:28:59.413352Z",
     "iopub.status.idle": "2024-10-24T19:28:59.422331Z",
     "shell.execute_reply": "2024-10-24T19:28:59.420989Z"
    },
    "papermill": {
     "duration": 0.020268,
     "end_time": "2024-10-24T19:28:59.424762",
     "exception": false,
     "start_time": "2024-10-24T19:28:59.404494",
     "status": "completed"
    },
    "tags": []
   },
   "outputs": [
    {
     "name": "stdout",
     "output_type": "stream",
     "text": [
      "Column for gender submission data_frame: \n",
      "Index(['PassengerId', 'Survived'], dtype='object')\n",
      " \n",
      "Column for train data_frame: \n",
      "Index(['PassengerId', 'Survived', 'Pclass', 'Name', 'Sex', 'Age', 'SibSp',\n",
      "       'Parch', 'Ticket', 'Fare', 'Cabin', 'Embarked'],\n",
      "      dtype='object')\n",
      " \n",
      "Column for test data_frame: \n",
      "Index(['PassengerId', 'Pclass', 'Name', 'Sex', 'Age', 'SibSp', 'Parch',\n",
      "       'Ticket', 'Fare', 'Cabin', 'Embarked'],\n",
      "      dtype='object')\n",
      " \n"
     ]
    }
   ],
   "source": [
    "#Displaying the columns for the above\n",
    "\n",
    "print(\"Column for gender submission data_frame: \")\n",
    "print(gender_submission_df.columns)\n",
    "print(\" \")\n",
    "\n",
    "print(\"Column for train data_frame: \")\n",
    "print(train_df.columns)\n",
    "print(\" \")\n",
    "\n",
    "print(\"Column for test data_frame: \")\n",
    "print(test_df.columns)\n",
    "print(\" \")"
   ]
  },
  {
   "cell_type": "code",
   "execution_count": 6,
   "id": "2661f54a",
   "metadata": {
    "execution": {
     "iopub.execute_input": "2024-10-24T19:28:59.442595Z",
     "iopub.status.busy": "2024-10-24T19:28:59.441345Z",
     "iopub.status.idle": "2024-10-24T19:28:59.452415Z",
     "shell.execute_reply": "2024-10-24T19:28:59.450961Z"
    },
    "papermill": {
     "duration": 0.023194,
     "end_time": "2024-10-24T19:28:59.455305",
     "exception": false,
     "start_time": "2024-10-24T19:28:59.432111",
     "status": "completed"
    },
    "tags": []
   },
   "outputs": [
    {
     "name": "stdout",
     "output_type": "stream",
     "text": [
      "d_type for gender submission data_frame: \n",
      "PassengerId    int64\n",
      "Survived       int64\n",
      "dtype: object\n",
      " \n",
      "d_type for train data_frame: \n",
      "PassengerId      int64\n",
      "Survived         int64\n",
      "Pclass           int64\n",
      "Name            object\n",
      "Sex             object\n",
      "Age            float64\n",
      "SibSp            int64\n",
      "Parch            int64\n",
      "Ticket          object\n",
      "Fare           float64\n",
      "Cabin           object\n",
      "Embarked        object\n",
      "dtype: object\n",
      " \n",
      "d_type for test data_frame: \n",
      "PassengerId      int64\n",
      "Pclass           int64\n",
      "Name            object\n",
      "Sex             object\n",
      "Age            float64\n",
      "SibSp            int64\n",
      "Parch            int64\n",
      "Ticket          object\n",
      "Fare           float64\n",
      "Cabin           object\n",
      "Embarked        object\n",
      "dtype: object\n",
      " \n"
     ]
    }
   ],
   "source": [
    "#Finding out what d_type Pandas has discovered for each\n",
    "\n",
    "print(\"d_type for gender submission data_frame: \")\n",
    "print(gender_submission_df.dtypes)\n",
    "print(\" \")\n",
    "\n",
    "print(\"d_type for train data_frame: \")\n",
    "print(train_df.dtypes)\n",
    "print(\" \")\n",
    "\n",
    "print(\"d_type for test data_frame: \")\n",
    "print(test_df.dtypes)\n",
    "print(\" \")"
   ]
  },
  {
   "cell_type": "code",
   "execution_count": 7,
   "id": "ae19cfae",
   "metadata": {
    "execution": {
     "iopub.execute_input": "2024-10-24T19:28:59.472351Z",
     "iopub.status.busy": "2024-10-24T19:28:59.471859Z",
     "iopub.status.idle": "2024-10-24T19:28:59.524426Z",
     "shell.execute_reply": "2024-10-24T19:28:59.523324Z"
    },
    "papermill": {
     "duration": 0.064188,
     "end_time": "2024-10-24T19:28:59.527125",
     "exception": false,
     "start_time": "2024-10-24T19:28:59.462937",
     "status": "completed"
    },
    "tags": []
   },
   "outputs": [
    {
     "name": "stdout",
     "output_type": "stream",
     "text": [
      "d_type for gender submission data_frame: \n",
      "       PassengerId    Survived\n",
      "count   418.000000  418.000000\n",
      "mean   1100.500000    0.363636\n",
      "std     120.810458    0.481622\n",
      "min     892.000000    0.000000\n",
      "25%     996.250000    0.000000\n",
      "50%    1100.500000    0.000000\n",
      "75%    1204.750000    1.000000\n",
      "max    1309.000000    1.000000\n",
      "----------------------------------------------------------------------\n",
      "d_type for train data_frame: \n",
      "       PassengerId    Survived      Pclass         Age       SibSp  \\\n",
      "count   891.000000  891.000000  891.000000  714.000000  891.000000   \n",
      "mean    446.000000    0.383838    2.308642   29.699118    0.523008   \n",
      "std     257.353842    0.486592    0.836071   14.526497    1.102743   \n",
      "min       1.000000    0.000000    1.000000    0.420000    0.000000   \n",
      "25%     223.500000    0.000000    2.000000   20.125000    0.000000   \n",
      "50%     446.000000    0.000000    3.000000   28.000000    0.000000   \n",
      "75%     668.500000    1.000000    3.000000   38.000000    1.000000   \n",
      "max     891.000000    1.000000    3.000000   80.000000    8.000000   \n",
      "\n",
      "            Parch        Fare  \n",
      "count  891.000000  891.000000  \n",
      "mean     0.381594   32.204208  \n",
      "std      0.806057   49.693429  \n",
      "min      0.000000    0.000000  \n",
      "25%      0.000000    7.910400  \n",
      "50%      0.000000   14.454200  \n",
      "75%      0.000000   31.000000  \n",
      "max      6.000000  512.329200  \n",
      "----------------------------------------------------------------------\n",
      "d_type for test data_frame: \n",
      "       PassengerId      Pclass         Age       SibSp       Parch        Fare\n",
      "count   418.000000  418.000000  332.000000  418.000000  418.000000  417.000000\n",
      "mean   1100.500000    2.265550   30.272590    0.447368    0.392344   35.627188\n",
      "std     120.810458    0.841838   14.181209    0.896760    0.981429   55.907576\n",
      "min     892.000000    1.000000    0.170000    0.000000    0.000000    0.000000\n",
      "25%     996.250000    1.000000   21.000000    0.000000    0.000000    7.895800\n",
      "50%    1100.500000    3.000000   27.000000    0.000000    0.000000   14.454200\n",
      "75%    1204.750000    3.000000   39.000000    1.000000    0.000000   31.500000\n",
      "max    1309.000000    3.000000   76.000000    8.000000    9.000000  512.329200\n",
      "----------------------------------------------------------------------\n"
     ]
    }
   ],
   "source": [
    "#Displaying numeric statistics about our data\n",
    "\n",
    "print(\"d_type for gender submission data_frame: \")\n",
    "print(gender_submission_df.describe())\n",
    "print(\"-\"*70)\n",
    "\n",
    "print(\"d_type for train data_frame: \")\n",
    "print(train_df.describe())\n",
    "print((\"-\"*70))\n",
    "\n",
    "print(\"d_type for test data_frame: \")\n",
    "print(test_df.describe())\n",
    "print((\"-\"*70))"
   ]
  },
  {
   "cell_type": "markdown",
   "id": "ef0e34b1",
   "metadata": {
    "papermill": {
     "duration": 0.007407,
     "end_time": "2024-10-24T19:28:59.542880",
     "exception": false,
     "start_time": "2024-10-24T19:28:59.535473",
     "status": "completed"
    },
    "tags": []
   },
   "source": []
  },
  {
   "cell_type": "markdown",
   "id": "4bd7b9d8",
   "metadata": {
    "papermill": {
     "duration": 0.007221,
     "end_time": "2024-10-24T19:28:59.557886",
     "exception": false,
     "start_time": "2024-10-24T19:28:59.550665",
     "status": "completed"
    },
    "tags": []
   },
   "source": [
    "<h1><b>Step 2: Data Preparation</b></h1>"
   ]
  },
  {
   "cell_type": "code",
   "execution_count": 8,
   "id": "21bd9403",
   "metadata": {
    "execution": {
     "iopub.execute_input": "2024-10-24T19:28:59.575164Z",
     "iopub.status.busy": "2024-10-24T19:28:59.574762Z",
     "iopub.status.idle": "2024-10-24T19:28:59.591749Z",
     "shell.execute_reply": "2024-10-24T19:28:59.590307Z"
    },
    "papermill": {
     "duration": 0.029393,
     "end_time": "2024-10-24T19:28:59.594964",
     "exception": false,
     "start_time": "2024-10-24T19:28:59.565571",
     "status": "completed"
    },
    "tags": []
   },
   "outputs": [
    {
     "name": "stdout",
     "output_type": "stream",
     "text": [
      "First 5 rows of Gender Submission DataFrame:\n",
      "   PassengerId  Survived\n",
      "0          892         0\n",
      "1          893         1\n",
      "2          894         0\n",
      "3          895         0\n",
      "4          896         1\n",
      "------------------------------------------------------------------------------------------\n",
      "First 5 rows of Train DataFrame:\n",
      "   PassengerId  Survived  Pclass  \\\n",
      "0            1         0       3   \n",
      "1            2         1       1   \n",
      "2            3         1       3   \n",
      "3            4         1       1   \n",
      "4            5         0       3   \n",
      "\n",
      "                                                Name     Sex   Age  SibSp  \\\n",
      "0                            Braund, Mr. Owen Harris    male  22.0      1   \n",
      "1  Cumings, Mrs. John Bradley (Florence Briggs Th...  female  38.0      1   \n",
      "2                             Heikkinen, Miss. Laina  female  26.0      0   \n",
      "3       Futrelle, Mrs. Jacques Heath (Lily May Peel)  female  35.0      1   \n",
      "4                           Allen, Mr. William Henry    male  35.0      0   \n",
      "\n",
      "   Parch            Ticket     Fare Cabin Embarked  \n",
      "0      0         A/5 21171   7.2500   NaN        S  \n",
      "1      0          PC 17599  71.2833   C85        C  \n",
      "2      0  STON/O2. 3101282   7.9250   NaN        S  \n",
      "3      0            113803  53.1000  C123        S  \n",
      "4      0            373450   8.0500   NaN        S  \n",
      "------------------------------------------------------------------------------------------\n",
      "First 5 rows of Test DataFrame:\n",
      "   PassengerId  Pclass                                          Name     Sex  \\\n",
      "0          892       3                              Kelly, Mr. James    male   \n",
      "1          893       3              Wilkes, Mrs. James (Ellen Needs)  female   \n",
      "2          894       2                     Myles, Mr. Thomas Francis    male   \n",
      "3          895       3                              Wirz, Mr. Albert    male   \n",
      "4          896       3  Hirvonen, Mrs. Alexander (Helga E Lindqvist)  female   \n",
      "\n",
      "    Age  SibSp  Parch   Ticket     Fare Cabin Embarked  \n",
      "0  34.5      0      0   330911   7.8292   NaN        Q  \n",
      "1  47.0      1      0   363272   7.0000   NaN        S  \n",
      "2  62.0      0      0   240276   9.6875   NaN        Q  \n",
      "3  27.0      0      0   315154   8.6625   NaN        S  \n",
      "4  22.0      1      1  3101298  12.2875   NaN        S  \n",
      "------------------------------------------------------------------------------------------\n"
     ]
    }
   ],
   "source": [
    "#Dropping irrelevant columns and rows(Cleaning the data)\n",
    "#Displaying the first few rows of each DataFrame\n",
    "print(\"First 5 rows of Gender Submission DataFrame:\")\n",
    "print(gender_submission_df.head())\n",
    "print(\"-\"*90)\n",
    "\n",
    "print(\"First 5 rows of Train DataFrame:\")\n",
    "print(train_df.head())\n",
    "print(\"-\"*90)\n",
    "\n",
    "print(\"First 5 rows of Test DataFrame:\")\n",
    "print(test_df.head())\n",
    "print(\"-\"*90)\n"
   ]
  },
  {
   "cell_type": "code",
   "execution_count": 9,
   "id": "574f0cea",
   "metadata": {
    "execution": {
     "iopub.execute_input": "2024-10-24T19:28:59.611756Z",
     "iopub.status.busy": "2024-10-24T19:28:59.611378Z",
     "iopub.status.idle": "2024-10-24T19:28:59.645080Z",
     "shell.execute_reply": "2024-10-24T19:28:59.643707Z"
    },
    "papermill": {
     "duration": 0.045585,
     "end_time": "2024-10-24T19:28:59.648245",
     "exception": false,
     "start_time": "2024-10-24T19:28:59.602660",
     "status": "completed"
    },
    "tags": []
   },
   "outputs": [
    {
     "name": "stdout",
     "output_type": "stream",
     "text": [
      "Column for gender submission data_frame: \n",
      "     PassengerId  Survived\n",
      "0            892         0\n",
      "1            893         1\n",
      "2            894         0\n",
      "3            895         0\n",
      "4            896         1\n",
      "..           ...       ...\n",
      "413         1305         0\n",
      "414         1306         1\n",
      "415         1307         0\n",
      "416         1308         0\n",
      "417         1309         0\n",
      "\n",
      "[418 rows x 2 columns]\n",
      "---------------------------------------------------------------------------\n",
      "Column for train data_frame: \n",
      "     Survived  Pclass     Sex   Age  SibSp  Parch     Fare Embarked\n",
      "0           0       3    male  22.0      1      0   7.2500        S\n",
      "1           1       1  female  38.0      1      0  71.2833        C\n",
      "2           1       3  female  26.0      0      0   7.9250        S\n",
      "3           1       1  female  35.0      1      0  53.1000        S\n",
      "4           0       3    male  35.0      0      0   8.0500        S\n",
      "..        ...     ...     ...   ...    ...    ...      ...      ...\n",
      "886         0       2    male  27.0      0      0  13.0000        S\n",
      "887         1       1  female  19.0      0      0  30.0000        S\n",
      "888         0       3  female   NaN      1      2  23.4500        S\n",
      "889         1       1    male  26.0      0      0  30.0000        C\n",
      "890         0       3    male  32.0      0      0   7.7500        Q\n",
      "\n",
      "[891 rows x 8 columns]\n",
      "---------------------------------------------------------------------------\n",
      "Column for test data_frame: \n",
      "     PassengerId  Pclass     Sex   Age  SibSp  Parch      Fare Cabin Embarked\n",
      "0            892       3    male  34.5      0      0    7.8292   NaN        Q\n",
      "1            893       3  female  47.0      1      0    7.0000   NaN        S\n",
      "2            894       2    male  62.0      0      0    9.6875   NaN        Q\n",
      "3            895       3    male  27.0      0      0    8.6625   NaN        S\n",
      "4            896       3  female  22.0      1      1   12.2875   NaN        S\n",
      "..           ...     ...     ...   ...    ...    ...       ...   ...      ...\n",
      "413         1305       3    male   NaN      0      0    8.0500   NaN        S\n",
      "414         1306       1  female  39.0      0      0  108.9000  C105        C\n",
      "415         1307       3    male  38.5      0      0    7.2500   NaN        S\n",
      "416         1308       3    male   NaN      0      0    8.0500   NaN        S\n",
      "417         1309       3    male   NaN      1      1   22.3583   NaN        C\n",
      "\n",
      "[418 rows x 9 columns]\n",
      "---------------------------------------------------------------------------\n"
     ]
    }
   ],
   "source": [
    "print(\"Column for gender submission data_frame: \")\n",
    "gender_submission_cleaned_df = gender_submission_df[['PassengerId', 'Survived']].copy()\n",
    "print(gender_submission_cleaned_df)\n",
    "print(\"-\"*75)\n",
    "\n",
    "print(\"Column for train data_frame: \")\n",
    "train_cleaned_df = train_df[[#'PassengerId', \n",
    "    'Survived', 'Pclass', \n",
    "    #'Name', \n",
    "        'Sex', 'Age', 'SibSp',\n",
    "       'Parch', #'Ticket', \n",
    "        'Fare', \n",
    "        #'Cabin', \n",
    "        'Embarked']].copy()\n",
    "print(train_cleaned_df)\n",
    "print(\"-\"*75)\n",
    "\n",
    "print(\"Column for test data_frame: \")\n",
    "test_cleaned_df = test_df[['PassengerId', 'Pclass', #'Name', \n",
    "               'Sex', 'Age', 'SibSp', 'Parch',\n",
    "       #'Ticket', \n",
    "               'Fare', 'Cabin', 'Embarked']].copy()\n",
    "print(test_cleaned_df)\n",
    "print(\"-\"*75)"
   ]
  },
  {
   "cell_type": "code",
   "execution_count": 10,
   "id": "6e2a6e6f",
   "metadata": {
    "execution": {
     "iopub.execute_input": "2024-10-24T19:28:59.666313Z",
     "iopub.status.busy": "2024-10-24T19:28:59.665856Z",
     "iopub.status.idle": "2024-10-24T19:28:59.675539Z",
     "shell.execute_reply": "2024-10-24T19:28:59.674382Z"
    },
    "papermill": {
     "duration": 0.021713,
     "end_time": "2024-10-24T19:28:59.678129",
     "exception": false,
     "start_time": "2024-10-24T19:28:59.656416",
     "status": "completed"
    },
    "tags": []
   },
   "outputs": [
    {
     "name": "stdout",
     "output_type": "stream",
     "text": [
      "d_type for gender submission data_frame: \n",
      "PassengerId    int64\n",
      "Survived       int64\n",
      "dtype: object\n",
      " \n",
      "d_type for train data_frame: \n",
      "Survived      int64\n",
      "Pclass        int64\n",
      "Sex          object\n",
      "Age         float64\n",
      "SibSp         int64\n",
      "Parch         int64\n",
      "Fare        float64\n",
      "Embarked     object\n",
      "dtype: object\n",
      " \n",
      "d_type for test data_frame: \n",
      "PassengerId      int64\n",
      "Pclass           int64\n",
      "Sex             object\n",
      "Age            float64\n",
      "SibSp            int64\n",
      "Parch            int64\n",
      "Fare           float64\n",
      "Cabin           object\n",
      "Embarked        object\n",
      "dtype: object\n",
      " \n"
     ]
    }
   ],
   "source": [
    "print(\"d_type for gender submission data_frame: \")\n",
    "print(gender_submission_cleaned_df.dtypes)\n",
    "print(\" \")\n",
    "\n",
    "print(\"d_type for train data_frame: \")\n",
    "print(train_cleaned_df.dtypes)\n",
    "print(\" \")\n",
    "\n",
    "print(\"d_type for test data_frame: \")\n",
    "print(test_cleaned_df.dtypes)\n",
    "print(\" \")\n"
   ]
  },
  {
   "cell_type": "code",
   "execution_count": 11,
   "id": "7dfee917",
   "metadata": {
    "execution": {
     "iopub.execute_input": "2024-10-24T19:28:59.696883Z",
     "iopub.status.busy": "2024-10-24T19:28:59.696015Z",
     "iopub.status.idle": "2024-10-24T19:28:59.719433Z",
     "shell.execute_reply": "2024-10-24T19:28:59.717949Z"
    },
    "papermill": {
     "duration": 0.035944,
     "end_time": "2024-10-24T19:28:59.722343",
     "exception": false,
     "start_time": "2024-10-24T19:28:59.686399",
     "status": "completed"
    },
    "tags": []
   },
   "outputs": [
    {
     "name": "stdout",
     "output_type": "stream",
     "text": [
      "Column for gender submission data_frame: \n",
      "     Passenger_Id  Survival_Status\n",
      "0             892                0\n",
      "1             893                1\n",
      "2             894                0\n",
      "3             895                0\n",
      "4             896                1\n",
      "..            ...              ...\n",
      "413          1305                0\n",
      "414          1306                1\n",
      "415          1307                0\n",
      "416          1308                0\n",
      "417          1309                0\n",
      "\n",
      "[418 rows x 2 columns]\n",
      "--------------------------------------------------------------------------------\n",
      "Column for train data_frame: \n",
      "     Survival_Status  Passenger_Class  Gender  Passenger_Age  \\\n",
      "0                  0                3    male           22.0   \n",
      "1                  1                1  female           38.0   \n",
      "2                  1                3  female           26.0   \n",
      "3                  1                1  female           35.0   \n",
      "4                  0                3    male           35.0   \n",
      "..               ...              ...     ...            ...   \n",
      "886                0                2    male           27.0   \n",
      "887                1                1  female           19.0   \n",
      "888                0                3  female            NaN   \n",
      "889                1                1    male           26.0   \n",
      "890                0                3    male           32.0   \n",
      "\n",
      "     Siblings_Spouses  Parents_Children  Ticket_Fare Port_of_Embarkation  \n",
      "0                   1                 0       7.2500                   S  \n",
      "1                   1                 0      71.2833                   C  \n",
      "2                   0                 0       7.9250                   S  \n",
      "3                   1                 0      53.1000                   S  \n",
      "4                   0                 0       8.0500                   S  \n",
      "..                ...               ...          ...                 ...  \n",
      "886                 0                 0      13.0000                   S  \n",
      "887                 0                 0      30.0000                   S  \n",
      "888                 1                 2      23.4500                   S  \n",
      "889                 0                 0      30.0000                   C  \n",
      "890                 0                 0       7.7500                   Q  \n",
      "\n",
      "[891 rows x 8 columns]\n",
      "--------------------------------------------------------------------------------\n",
      "Column for test data_frame: \n",
      "     Passenger_Id  Passenger_Class  Gender  Passenger_Age  Siblings_Spouses  \\\n",
      "0             892                3    male           34.5                 0   \n",
      "1             893                3  female           47.0                 1   \n",
      "2             894                2    male           62.0                 0   \n",
      "3             895                3    male           27.0                 0   \n",
      "4             896                3  female           22.0                 1   \n",
      "..            ...              ...     ...            ...               ...   \n",
      "413          1305                3    male            NaN                 0   \n",
      "414          1306                1  female           39.0                 0   \n",
      "415          1307                3    male           38.5                 0   \n",
      "416          1308                3    male            NaN                 0   \n",
      "417          1309                3    male            NaN                 1   \n",
      "\n",
      "     Parents_Children  Ticket_Fare Cabin_Number Port_of_Embarkation  \n",
      "0                   0       7.8292          NaN                   Q  \n",
      "1                   0       7.0000          NaN                   S  \n",
      "2                   0       9.6875          NaN                   Q  \n",
      "3                   0       8.6625          NaN                   S  \n",
      "4                   1      12.2875          NaN                   S  \n",
      "..                ...          ...          ...                 ...  \n",
      "413                 0       8.0500          NaN                   S  \n",
      "414                 0     108.9000         C105                   C  \n",
      "415                 0       7.2500          NaN                   S  \n",
      "416                 0       8.0500          NaN                   S  \n",
      "417                 1      22.3583          NaN                   C  \n",
      "\n",
      "[418 rows x 9 columns]\n",
      "--------------------------------------------------------------------------------\n"
     ]
    }
   ],
   "source": [
    "#Renaming our columns\n",
    "print(\"Column for gender submission data_frame: \")\n",
    "gender_submission_cleaned_df = gender_submission_cleaned_df.rename(columns = {'PassengerId': 'Passenger_Id',\n",
    "                                                'Survived': 'Survival_Status'}) \n",
    "print(gender_submission_cleaned_df)\n",
    "print(\"-\"*80)\n",
    "\n",
    "print(\"Column for train data_frame: \")\n",
    "train_cleaned_df = train_cleaned_df.rename(columns = {'Survived': 'Survival_Status',\n",
    "                                                       'Pclass' : 'Passenger_Class',\n",
    "                                                        'Sex' : 'Gender',\n",
    "                                                         'Age' : 'Passenger_Age',\n",
    "                                                        'SibSp': 'Siblings_Spouses',\n",
    "                                                        'Parch': 'Parents_Children',\n",
    "                                                         'Fare': 'Ticket_Fare',\n",
    "                                                        'Embarked':'Port_of_Embarkation'})\n",
    "   \n",
    "   \n",
    "print(train_cleaned_df)\n",
    "print(\"-\"*80)\n",
    "\n",
    "print(\"Column for test data_frame: \")\n",
    "test_cleaned_df = test_cleaned_df.rename(columns = {'PassengerId': 'Passenger_Id', \n",
    "                                                    'Pclass': 'Passenger_Class',\n",
    "                                                    'Sex': 'Gender', \n",
    "                                                    'Age': 'Passenger_Age', \n",
    "                                                    'SibSp': 'Siblings_Spouses', \n",
    "                                                    'Parch': 'Parents_Children',\n",
    "                                                    'Fare': 'Ticket_Fare', \n",
    "                                                    'Cabin': 'Cabin_Number', \n",
    "                                                    'Embarked': 'Port_of_Embarkation',})\n",
    "print(test_cleaned_df)\n",
    "print(\"-\"*80)"
   ]
  },
  {
   "cell_type": "code",
   "execution_count": 12,
   "id": "c0b85bf3",
   "metadata": {
    "execution": {
     "iopub.execute_input": "2024-10-24T19:28:59.741695Z",
     "iopub.status.busy": "2024-10-24T19:28:59.741280Z",
     "iopub.status.idle": "2024-10-24T19:28:59.753250Z",
     "shell.execute_reply": "2024-10-24T19:28:59.751896Z"
    },
    "papermill": {
     "duration": 0.025399,
     "end_time": "2024-10-24T19:28:59.756270",
     "exception": false,
     "start_time": "2024-10-24T19:28:59.730871",
     "status": "completed"
    },
    "tags": []
   },
   "outputs": [
    {
     "name": "stdout",
     "output_type": "stream",
     "text": [
      "d_type for gender submission data_frame: \n",
      "Passenger_Id       0\n",
      "Survival_Status    0\n",
      "dtype: int64\n",
      "------------------------------------------------------------------------------------------\n",
      "d_type for train data_frame: \n",
      "Survival_Status          0\n",
      "Passenger_Class          0\n",
      "Gender                   0\n",
      "Passenger_Age          177\n",
      "Siblings_Spouses         0\n",
      "Parents_Children         0\n",
      "Ticket_Fare              0\n",
      "Port_of_Embarkation      2\n",
      "dtype: int64\n",
      "------------------------------------------------------------------------------------------\n",
      "d_type for test data_frame: \n",
      "Passenger_Id             0\n",
      "Passenger_Class          0\n",
      "Gender                   0\n",
      "Passenger_Age           86\n",
      "Siblings_Spouses         0\n",
      "Parents_Children         0\n",
      "Ticket_Fare              1\n",
      "Cabin_Number           327\n",
      "Port_of_Embarkation      0\n",
      "dtype: int64\n",
      "------------------------------------------------------------------------------------------\n"
     ]
    }
   ],
   "source": [
    "#Checking if there aren't any missing values:\n",
    "\n",
    "print(\"d_type for gender submission data_frame: \")\n",
    "print(gender_submission_cleaned_df.isna().sum())\n",
    "print(\"-\" * 90)\n",
    "\n",
    "print(\"d_type for train data_frame: \")\n",
    "print(train_cleaned_df.isna().sum())\n",
    "print(\"-\" * 90)\n",
    "\n",
    "print(\"d_type for test data_frame: \")\n",
    "print(test_cleaned_df.isna().sum())\n",
    "print(\"-\" * 90)\n"
   ]
  },
  {
   "cell_type": "code",
   "execution_count": 13,
   "id": "f8e4e140",
   "metadata": {
    "execution": {
     "iopub.execute_input": "2024-10-24T19:28:59.775159Z",
     "iopub.status.busy": "2024-10-24T19:28:59.774718Z",
     "iopub.status.idle": "2024-10-24T19:28:59.805606Z",
     "shell.execute_reply": "2024-10-24T19:28:59.804115Z"
    },
    "papermill": {
     "duration": 0.043859,
     "end_time": "2024-10-24T19:28:59.808708",
     "exception": false,
     "start_time": "2024-10-24T19:28:59.764849",
     "status": "completed"
    },
    "tags": []
   },
   "outputs": [
    {
     "name": "stdout",
     "output_type": "stream",
     "text": [
      "d_type for gender submission data_frame: \n",
      "Empty DataFrame\n",
      "Columns: [Passenger_Id, Survival_Status]\n",
      "Index: []\n",
      "------------------------------------------------------------------------------------------\n",
      "d_type for train data_frame: \n",
      "     Survival_Status  Passenger_Class  Gender  Passenger_Age  \\\n",
      "47                 1                3  female            NaN   \n",
      "76                 0                3    male            NaN   \n",
      "77                 0                3    male            NaN   \n",
      "87                 0                3    male            NaN   \n",
      "95                 0                3    male            NaN   \n",
      "..               ...              ...     ...            ...   \n",
      "870                0                3    male           26.0   \n",
      "877                0                3    male           19.0   \n",
      "878                0                3    male            NaN   \n",
      "884                0                3    male           25.0   \n",
      "886                0                2    male           27.0   \n",
      "\n",
      "     Siblings_Spouses  Parents_Children  Ticket_Fare Port_of_Embarkation  \n",
      "47                  0                 0       7.7500                   Q  \n",
      "76                  0                 0       7.8958                   S  \n",
      "77                  0                 0       8.0500                   S  \n",
      "87                  0                 0       8.0500                   S  \n",
      "95                  0                 0       8.0500                   S  \n",
      "..                ...               ...          ...                 ...  \n",
      "870                 0                 0       7.8958                   S  \n",
      "877                 0                 0       7.8958                   S  \n",
      "878                 0                 0       7.8958                   S  \n",
      "884                 0                 0       7.0500                   S  \n",
      "886                 0                 0      13.0000                   S  \n",
      "\n",
      "[111 rows x 8 columns]\n",
      "------------------------------------------------------------------------------------------\n",
      "d_type for test data_frame: \n",
      "Empty DataFrame\n",
      "Columns: [Passenger_Id, Passenger_Class, Gender, Passenger_Age, Siblings_Spouses, Parents_Children, Ticket_Fare, Cabin_Number, Port_of_Embarkation]\n",
      "Index: []\n",
      "------------------------------------------------------------------------------------------\n"
     ]
    }
   ],
   "source": [
    "#Checking if there aren't any duplicates\n",
    "print(\"d_type for gender submission data_frame: \")\n",
    "print(gender_submission_cleaned_df.loc[gender_submission_cleaned_df.duplicated()])\n",
    "print(\"-\" * 90)\n",
    "\n",
    "print(\"d_type for train data_frame: \")\n",
    "print(train_cleaned_df.loc[train_cleaned_df.duplicated()])\n",
    "print(\"-\" * 90)\n",
    "\n",
    "print(\"d_type for test data_frame: \")\n",
    "print(test_cleaned_df.loc[test_cleaned_df.duplicated()])\n",
    "print(\"-\" * 90)\n"
   ]
  },
  {
   "cell_type": "code",
   "execution_count": 14,
   "id": "7c712dea",
   "metadata": {
    "execution": {
     "iopub.execute_input": "2024-10-24T19:28:59.828284Z",
     "iopub.status.busy": "2024-10-24T19:28:59.827823Z",
     "iopub.status.idle": "2024-10-24T19:28:59.834608Z",
     "shell.execute_reply": "2024-10-24T19:28:59.833335Z"
    },
    "papermill": {
     "duration": 0.01961,
     "end_time": "2024-10-24T19:28:59.837165",
     "exception": false,
     "start_time": "2024-10-24T19:28:59.817555",
     "status": "completed"
    },
    "tags": []
   },
   "outputs": [
    {
     "name": "stdout",
     "output_type": "stream",
     "text": [
      "Gender Submission DataFrame shape: (418, 2)\n",
      "train DataFrame shape: (891, 12)\n",
      "test DataFrame shape: (418, 11)\n"
     ]
    }
   ],
   "source": [
    "print(\"Gender Submission DataFrame shape:\", gender_submission_df.shape)\n",
    "print(\"train DataFrame shape:\", train_df.shape)\n",
    "print(\"test DataFrame shape:\", test_df.shape)"
   ]
  },
  {
   "cell_type": "code",
   "execution_count": null,
   "id": "f1978204",
   "metadata": {
    "papermill": {
     "duration": 0.008145,
     "end_time": "2024-10-24T19:28:59.854552",
     "exception": false,
     "start_time": "2024-10-24T19:28:59.846407",
     "status": "completed"
    },
    "tags": []
   },
   "outputs": [],
   "source": []
  },
  {
   "cell_type": "code",
   "execution_count": null,
   "id": "3ebbff19",
   "metadata": {
    "papermill": {
     "duration": 0.008209,
     "end_time": "2024-10-24T19:28:59.871261",
     "exception": false,
     "start_time": "2024-10-24T19:28:59.863052",
     "status": "completed"
    },
    "tags": []
   },
   "outputs": [],
   "source": []
  },
  {
   "cell_type": "code",
   "execution_count": null,
   "id": "3f965767",
   "metadata": {
    "papermill": {
     "duration": 0.008075,
     "end_time": "2024-10-24T19:28:59.887766",
     "exception": false,
     "start_time": "2024-10-24T19:28:59.879691",
     "status": "completed"
    },
    "tags": []
   },
   "outputs": [],
   "source": []
  },
  {
   "cell_type": "code",
   "execution_count": 15,
   "id": "d0530128",
   "metadata": {
    "execution": {
     "iopub.execute_input": "2024-10-24T19:28:59.906818Z",
     "iopub.status.busy": "2024-10-24T19:28:59.906402Z",
     "iopub.status.idle": "2024-10-24T19:28:59.927534Z",
     "shell.execute_reply": "2024-10-24T19:28:59.926109Z"
    },
    "papermill": {
     "duration": 0.034084,
     "end_time": "2024-10-24T19:28:59.930497",
     "exception": false,
     "start_time": "2024-10-24T19:28:59.896413",
     "status": "completed"
    },
    "tags": []
   },
   "outputs": [
    {
     "name": "stdout",
     "output_type": "stream",
     "text": [
      "d_type for gender submission data_frame: \n",
      "   Passenger_Id  Survival_Status\n",
      "0           892                0\n",
      "1           893                1\n",
      "2           894                0\n",
      "3           895                0\n",
      "4           896                1\n",
      "------------------------------------------------------------------------------------------\n",
      "d_type for train data_frame: \n",
      "     Survival_Status  Passenger_Class  Gender  Passenger_Age  \\\n",
      "47                 1                3  female            NaN   \n",
      "76                 0                3    male            NaN   \n",
      "77                 0                3    male            NaN   \n",
      "87                 0                3    male            NaN   \n",
      "95                 0                3    male            NaN   \n",
      "..               ...              ...     ...            ...   \n",
      "870                0                3    male           26.0   \n",
      "877                0                3    male           19.0   \n",
      "878                0                3    male            NaN   \n",
      "884                0                3    male           25.0   \n",
      "886                0                2    male           27.0   \n",
      "\n",
      "     Siblings_Spouses  Parents_Children  Ticket_Fare Port_of_Embarkation  \n",
      "47                  0                 0       7.7500                   Q  \n",
      "76                  0                 0       7.8958                   S  \n",
      "77                  0                 0       8.0500                   S  \n",
      "87                  0                 0       8.0500                   S  \n",
      "95                  0                 0       8.0500                   S  \n",
      "..                ...               ...          ...                 ...  \n",
      "870                 0                 0       7.8958                   S  \n",
      "877                 0                 0       7.8958                   S  \n",
      "878                 0                 0       7.8958                   S  \n",
      "884                 0                 0       7.0500                   S  \n",
      "886                 0                 0      13.0000                   S  \n",
      "\n",
      "[111 rows x 8 columns]\n",
      "------------------------------------------------------------------------------------------\n",
      "d_type for test data_frame: \n",
      "Empty DataFrame\n",
      "Columns: [Passenger_Id, Passenger_Class, Gender, Passenger_Age, Siblings_Spouses, Parents_Children, Ticket_Fare, Cabin_Number, Port_of_Embarkation]\n",
      "Index: []\n",
      "------------------------------------------------------------------------------------------\n"
     ]
    }
   ],
   "source": [
    "#Checking if there arent any duplicated rows\n",
    "print(\"d_type for gender submission data_frame: \")\n",
    "duplicates = gender_submission_cleaned_df.loc[gender_submission_cleaned_df.duplicated(subset=['Survival_Status'], keep=False)].head(5)\n",
    "print(duplicates)\n",
    "print(\"-\" * 90)\n",
    "\n",
    "print(\"d_type for train data_frame: \")\n",
    "print(train_cleaned_df.loc[train_cleaned_df.duplicated()])\n",
    "print(\"-\" * 90)\n",
    "\n",
    "print(\"d_type for test data_frame: \")\n",
    "print(test_cleaned_df.loc[test_cleaned_df.duplicated()])\n",
    "print(\"-\" * 90)\n"
   ]
  },
  {
   "cell_type": "code",
   "execution_count": 16,
   "id": "43865c30",
   "metadata": {
    "execution": {
     "iopub.execute_input": "2024-10-24T19:28:59.950725Z",
     "iopub.status.busy": "2024-10-24T19:28:59.949864Z",
     "iopub.status.idle": "2024-10-24T19:28:59.976658Z",
     "shell.execute_reply": "2024-10-24T19:28:59.975382Z"
    },
    "papermill": {
     "duration": 0.039967,
     "end_time": "2024-10-24T19:28:59.979516",
     "exception": false,
     "start_time": "2024-10-24T19:28:59.939549",
     "status": "completed"
    },
    "tags": []
   },
   "outputs": [
    {
     "name": "stdout",
     "output_type": "stream",
     "text": [
      "d_type for gender submission data_frame: \n",
      "     Passenger_Id  Survival_Status\n",
      "0             892                0\n",
      "2             894                0\n",
      "3             895                0\n",
      "5             897                0\n",
      "7             899                0\n",
      "..            ...              ...\n",
      "407          1299                0\n",
      "413          1305                0\n",
      "415          1307                0\n",
      "416          1308                0\n",
      "417          1309                0\n",
      "\n",
      "[266 rows x 2 columns]\n",
      "------------------------------------------------------------------------------------------\n",
      "d_type for train data_frame: \n",
      "     Survival_Status  Passenger_Class  Gender  Passenger_Age  \\\n",
      "47                 1                3  female            NaN   \n",
      "76                 0                3    male            NaN   \n",
      "77                 0                3    male            NaN   \n",
      "87                 0                3    male            NaN   \n",
      "95                 0                3    male            NaN   \n",
      "..               ...              ...     ...            ...   \n",
      "870                0                3    male           26.0   \n",
      "877                0                3    male           19.0   \n",
      "878                0                3    male            NaN   \n",
      "884                0                3    male           25.0   \n",
      "886                0                2    male           27.0   \n",
      "\n",
      "     Siblings_Spouses  Parents_Children  Ticket_Fare Port_of_Embarkation  \n",
      "47                  0                 0       7.7500                   Q  \n",
      "76                  0                 0       7.8958                   S  \n",
      "77                  0                 0       8.0500                   S  \n",
      "87                  0                 0       8.0500                   S  \n",
      "95                  0                 0       8.0500                   S  \n",
      "..                ...               ...          ...                 ...  \n",
      "870                 0                 0       7.8958                   S  \n",
      "877                 0                 0       7.8958                   S  \n",
      "878                 0                 0       7.8958                   S  \n",
      "884                 0                 0       7.0500                   S  \n",
      "886                 0                 0      13.0000                   S  \n",
      "\n",
      "[111 rows x 8 columns]\n",
      "------------------------------------------------------------------------------------------\n",
      "d_type for test data_frame: \n",
      "Empty DataFrame\n",
      "Columns: [Passenger_Id, Passenger_Class, Gender, Passenger_Age, Siblings_Spouses, Parents_Children, Ticket_Fare, Cabin_Number, Port_of_Embarkation]\n",
      "Index: []\n",
      "------------------------------------------------------------------------------------------\n"
     ]
    }
   ],
   "source": [
    "#Filtering and Querying my data above:\n",
    "#Checking an example duplicate\n",
    "print(\"d_type for gender submission data_frame: \")\n",
    "Filter = gender_submission_cleaned_df.query('Survival_Status == 0')\n",
    "print(Filter)\n",
    "print(\"-\" * 90)\n",
    "\n",
    "print(\"d_type for train data_frame: \")\n",
    "print(train_cleaned_df.loc[train_cleaned_df.duplicated()])\n",
    "print(\"-\" * 90)\n",
    "\n",
    "print(\"d_type for test data_frame: \")\n",
    "print(test_cleaned_df.loc[test_cleaned_df.duplicated()])\n",
    "print(\"-\" * 90)\n"
   ]
  },
  {
   "cell_type": "code",
   "execution_count": 17,
   "id": "fd0f781c",
   "metadata": {
    "execution": {
     "iopub.execute_input": "2024-10-24T19:28:59.999942Z",
     "iopub.status.busy": "2024-10-24T19:28:59.999538Z",
     "iopub.status.idle": "2024-10-24T19:29:00.007249Z",
     "shell.execute_reply": "2024-10-24T19:29:00.006093Z"
    },
    "papermill": {
     "duration": 0.021852,
     "end_time": "2024-10-24T19:29:00.010273",
     "exception": false,
     "start_time": "2024-10-24T19:28:59.988421",
     "status": "completed"
    },
    "tags": []
   },
   "outputs": [
    {
     "name": "stdout",
     "output_type": "stream",
     "text": [
      "Column for gender submission data_frame: \n",
      "Index(['Passenger_Id', 'Survival_Status'], dtype='object')\n",
      "------------------------------------------------------------------------------------------\n",
      "Column for train data_frame: \n",
      "Index(['Survival_Status', 'Passenger_Class', 'Gender', 'Passenger_Age',\n",
      "       'Siblings_Spouses', 'Parents_Children', 'Ticket_Fare',\n",
      "       'Port_of_Embarkation'],\n",
      "      dtype='object')\n",
      "------------------------------------------------------------------------------------------\n",
      "Column for test data_frame: \n",
      "Index(['Passenger_Id', 'Passenger_Class', 'Gender', 'Passenger_Age',\n",
      "       'Siblings_Spouses', 'Parents_Children', 'Ticket_Fare', 'Cabin_Number',\n",
      "       'Port_of_Embarkation'],\n",
      "      dtype='object')\n",
      "------------------------------------------------------------------------------------------\n"
     ]
    }
   ],
   "source": [
    "print(\"Column for gender submission data_frame: \")\n",
    "print(gender_submission_cleaned_df.columns)\n",
    "print(\"-\" * 90)\n",
    "\n",
    "print(\"Column for train data_frame: \")\n",
    "print(train_cleaned_df.columns)\n",
    "print(\"-\" * 90)\n",
    "\n",
    "print(\"Column for test data_frame: \")\n",
    "print(test_cleaned_df.columns)\n",
    "print(\"-\" * 90)"
   ]
  },
  {
   "cell_type": "code",
   "execution_count": 18,
   "id": "de061dbf",
   "metadata": {
    "execution": {
     "iopub.execute_input": "2024-10-24T19:29:00.031973Z",
     "iopub.status.busy": "2024-10-24T19:29:00.031568Z",
     "iopub.status.idle": "2024-10-24T19:29:00.046428Z",
     "shell.execute_reply": "2024-10-24T19:29:00.045019Z"
    },
    "papermill": {
     "duration": 0.0283,
     "end_time": "2024-10-24T19:29:00.049129",
     "exception": false,
     "start_time": "2024-10-24T19:29:00.020829",
     "status": "completed"
    },
    "tags": []
   },
   "outputs": [
    {
     "name": "stdout",
     "output_type": "stream",
     "text": [
      "d_type for gender submission data_frame: \n",
      "416\n",
      "------------------------------------------------------------------------------------------\n",
      "d_type for train data_frame: \n",
      "179\n",
      "------------------------------------------------------------------------------------------\n",
      "d_type for test data_frame: \n",
      "Empty DataFrame\n",
      "Columns: [Passenger_Id, Passenger_Class, Gender, Passenger_Age, Siblings_Spouses, Parents_Children, Ticket_Fare, Cabin_Number, Port_of_Embarkation]\n",
      "Index: []\n",
      "------------------------------------------------------------------------------------------\n"
     ]
    }
   ],
   "source": [
    "#Checking if there arent any duplicated rows\n",
    "print(\"d_type for gender submission data_frame: \")\n",
    "duplicates = gender_submission_cleaned_df.duplicated(subset=['Survival_Status']).sum()\n",
    "print(duplicates)\n",
    "print(\"-\" * 90)\n",
    "\n",
    "print(\"d_type for train data_frame: \")\n",
    "duplicates = train_cleaned_df.duplicated(subset=['Passenger_Class', 'Passenger_Age', 'Ticket_Fare']).sum()\n",
    "print(duplicates)\n",
    "print(\"-\" * 90)\n",
    "\n",
    "print(\"d_type for test data_frame: \")\n",
    "print(test_cleaned_df.loc[test_cleaned_df.duplicated()])\n",
    "duplicates = test_cleaned_df.duplicated(subset=['Siblings_Spouses', 'Passenger_Age', 'Port_of_Embarkation']).sum()\n",
    "print(\"-\" * 90)\n"
   ]
  },
  {
   "cell_type": "code",
   "execution_count": 19,
   "id": "a5f38441",
   "metadata": {
    "execution": {
     "iopub.execute_input": "2024-10-24T19:29:00.071412Z",
     "iopub.status.busy": "2024-10-24T19:29:00.070363Z",
     "iopub.status.idle": "2024-10-24T19:29:00.086811Z",
     "shell.execute_reply": "2024-10-24T19:29:00.085363Z"
    },
    "papermill": {
     "duration": 0.030652,
     "end_time": "2024-10-24T19:29:00.089844",
     "exception": false,
     "start_time": "2024-10-24T19:29:00.059192",
     "status": "completed"
    },
    "tags": []
   },
   "outputs": [
    {
     "name": "stdout",
     "output_type": "stream",
     "text": [
      "d_type for gender submission data_frame: \n",
      "   Passenger_Id  Survival_Status\n",
      "0           892                0\n",
      "1           893                1\n",
      "------------------------------------------------------------------------------------------\n",
      "d_type for train data_frame: \n",
      "------------------------------------------------------------------------------------------\n",
      "d_type for test data_frame: \n",
      "------------------------------------------------------------------------------------------\n"
     ]
    }
   ],
   "source": [
    "#Checking if there arent any duplicated rows\n",
    "print(\"d_type for gender submission data_frame: \")\n",
    "gender_submission_cleaned_df = gender_submission_cleaned_df.loc[~gender_submission_cleaned_df.duplicated(subset=['Survival_Status'])]\\\n",
    ".reset_index(drop=True).copy()\n",
    "print(gender_submission_cleaned_df)\n",
    "print(\"-\" * 90)\n",
    "\n",
    "print(\"d_type for train data_frame: \")\n",
    "train_cleaned_df = gender_submission_cleaned_df.loc[~train_cleaned_df.duplicated(subset=['Passenger_Class', 'Passenger_Age', 'Ticket_Fare'])]\\\n",
    ".reset_index(drop=True).copy()\n",
    "print(\"-\" * 90)\n",
    "\n",
    "print(\"d_type for test data_frame: \")\n",
    "test_cleaned_df = gender_submission_cleaned_df.loc[~test_cleaned_df.duplicated(subset=['Ticket_Fare', 'Cabin_Number', 'Port_of_Embarkation'])]\\\n",
    ".reset_index(drop=True).copy()\n",
    "print(\"-\" * 90)\n",
    "\n"
   ]
  },
  {
   "cell_type": "code",
   "execution_count": 20,
   "id": "ba65e272",
   "metadata": {
    "execution": {
     "iopub.execute_input": "2024-10-24T19:29:00.110093Z",
     "iopub.status.busy": "2024-10-24T19:29:00.109630Z",
     "iopub.status.idle": "2024-10-24T19:29:00.116270Z",
     "shell.execute_reply": "2024-10-24T19:29:00.114958Z"
    },
    "papermill": {
     "duration": 0.019746,
     "end_time": "2024-10-24T19:29:00.118703",
     "exception": false,
     "start_time": "2024-10-24T19:29:00.098957",
     "status": "completed"
    },
    "tags": []
   },
   "outputs": [
    {
     "name": "stdout",
     "output_type": "stream",
     "text": [
      "Gender Submission DataFrame shape: (2, 2)\n",
      "train DataFrame shape: (2, 2)\n",
      "test DataFrame shape: (2, 2)\n"
     ]
    }
   ],
   "source": [
    "print(\"Gender Submission DataFrame shape:\", gender_submission_cleaned_df.shape)\n",
    "print(\"train DataFrame shape:\", train_cleaned_df.shape)\n",
    "print(\"test DataFrame shape:\", test_cleaned_df.shape)"
   ]
  },
  {
   "cell_type": "markdown",
   "id": "a14c956a",
   "metadata": {
    "papermill": {
     "duration": 0.009848,
     "end_time": "2024-10-24T19:29:00.137796",
     "exception": false,
     "start_time": "2024-10-24T19:29:00.127948",
     "status": "completed"
    },
    "tags": []
   },
   "source": [
    "<h1><b>Step 3: Feature Understanding</b></h1>\n",
    "\n",
    "* Plotting Feature Distribustions\n",
    "* Histogram\n",
    "* KDE\n",
    "* Boxplot"
   ]
  },
  {
   "cell_type": "code",
   "execution_count": null,
   "id": "a47686f3",
   "metadata": {
    "papermill": {
     "duration": 0.009549,
     "end_time": "2024-10-24T19:29:00.156993",
     "exception": false,
     "start_time": "2024-10-24T19:29:00.147444",
     "status": "completed"
    },
    "tags": []
   },
   "outputs": [],
   "source": []
  },
  {
   "cell_type": "code",
   "execution_count": null,
   "id": "d4c22376",
   "metadata": {
    "papermill": {
     "duration": 0.009058,
     "end_time": "2024-10-24T19:29:00.176734",
     "exception": false,
     "start_time": "2024-10-24T19:29:00.167676",
     "status": "completed"
    },
    "tags": []
   },
   "outputs": [],
   "source": []
  }
 ],
 "metadata": {
  "kaggle": {
   "accelerator": "none",
   "dataSources": [
    {
     "datasetId": 5931413,
     "sourceId": 9699872,
     "sourceType": "datasetVersion"
    },
    {
     "sourceId": 202799860,
     "sourceType": "kernelVersion"
    }
   ],
   "dockerImageVersionId": 30786,
   "isGpuEnabled": false,
   "isInternetEnabled": true,
   "language": "python",
   "sourceType": "notebook"
  },
  "kernelspec": {
   "display_name": "Python 3",
   "language": "python",
   "name": "python3"
  },
  "language_info": {
   "codemirror_mode": {
    "name": "ipython",
    "version": 3
   },
   "file_extension": ".py",
   "mimetype": "text/x-python",
   "name": "python",
   "nbconvert_exporter": "python",
   "pygments_lexer": "ipython3",
   "version": "3.10.14"
  },
  "papermill": {
   "default_parameters": {},
   "duration": 8.256821,
   "end_time": "2024-10-24T19:29:00.914674",
   "environment_variables": {},
   "exception": null,
   "input_path": "__notebook__.ipynb",
   "output_path": "__notebook__.ipynb",
   "parameters": {},
   "start_time": "2024-10-24T19:28:52.657853",
   "version": "2.6.0"
  }
 },
 "nbformat": 4,
 "nbformat_minor": 5
}
